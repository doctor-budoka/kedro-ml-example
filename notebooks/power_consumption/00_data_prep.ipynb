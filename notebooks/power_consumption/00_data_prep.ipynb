{
 "cells": [
  {
   "cell_type": "code",
   "execution_count": 1,
   "id": "163bd9bd",
   "metadata": {},
   "outputs": [],
   "source": [
    "from pathlib import Path\n",
    "from dateutil.relativedelta import relativedelta\n",
    "import datetime as dt\n",
    "import pandas as pd\n",
    "\n",
    "\n",
    "ROOT_DIR = Path(\"../../\")\n",
    "DATA_DIR = ROOT_DIR / \"data\"\n",
    "INPUT_DATA = DATA_DIR / \"00_preraw\" / \"DAYTON_hourly.csv\"\n",
    "OUTPUT_DATA = DATA_DIR / \"01_raw\" / \"DAYTON_power_consumption.csv\"\n",
    "\n",
    "AVG_DAYTON_YEARLY_HOUSEHOLD_KWH = 13092\n"
   ]
  },
  {
   "cell_type": "code",
   "execution_count": 2,
   "id": "8662a40a",
   "metadata": {},
   "outputs": [
    {
     "data": {
      "text/html": [
       "<div>\n",
       "<style scoped>\n",
       "    .dataframe tbody tr th:only-of-type {\n",
       "        vertical-align: middle;\n",
       "    }\n",
       "\n",
       "    .dataframe tbody tr th {\n",
       "        vertical-align: top;\n",
       "    }\n",
       "\n",
       "    .dataframe thead th {\n",
       "        text-align: right;\n",
       "    }\n",
       "</style>\n",
       "<table border=\"1\" class=\"dataframe\">\n",
       "  <thead>\n",
       "    <tr style=\"text-align: right;\">\n",
       "      <th></th>\n",
       "      <th>datetime</th>\n",
       "      <th>power_mw</th>\n",
       "    </tr>\n",
       "  </thead>\n",
       "  <tbody>\n",
       "    <tr>\n",
       "      <th>0</th>\n",
       "      <td>2004-12-31 01:00:00</td>\n",
       "      <td>1596.0</td>\n",
       "    </tr>\n",
       "    <tr>\n",
       "      <th>1</th>\n",
       "      <td>2004-12-31 02:00:00</td>\n",
       "      <td>1517.0</td>\n",
       "    </tr>\n",
       "    <tr>\n",
       "      <th>2</th>\n",
       "      <td>2004-12-31 03:00:00</td>\n",
       "      <td>1486.0</td>\n",
       "    </tr>\n",
       "    <tr>\n",
       "      <th>3</th>\n",
       "      <td>2004-12-31 04:00:00</td>\n",
       "      <td>1469.0</td>\n",
       "    </tr>\n",
       "    <tr>\n",
       "      <th>4</th>\n",
       "      <td>2004-12-31 05:00:00</td>\n",
       "      <td>1472.0</td>\n",
       "    </tr>\n",
       "  </tbody>\n",
       "</table>\n",
       "</div>"
      ],
      "text/plain": [
       "             datetime  power_mw\n",
       "0 2004-12-31 01:00:00    1596.0\n",
       "1 2004-12-31 02:00:00    1517.0\n",
       "2 2004-12-31 03:00:00    1486.0\n",
       "3 2004-12-31 04:00:00    1469.0\n",
       "4 2004-12-31 05:00:00    1472.0"
      ]
     },
     "execution_count": 2,
     "metadata": {},
     "output_type": "execute_result"
    }
   ],
   "source": [
    "data = (\n",
    "    pd.read_csv(INPUT_DATA, parse_dates=[\"Datetime\"])\n",
    "    .rename(columns={\"Datetime\": \"datetime\", \"DAYTON_MW\": \"power_mw\"})\n",
    ")\n",
    "\n",
    "data.head()"
   ]
  },
  {
   "cell_type": "code",
   "execution_count": 3,
   "id": "201c78ed",
   "metadata": {},
   "outputs": [
    {
     "data": {
      "text/plain": [
       "(Timestamp('2004-10-01 01:00:00'), Timestamp('2018-08-03 00:00:00'))"
      ]
     },
     "execution_count": 3,
     "metadata": {},
     "output_type": "execute_result"
    }
   ],
   "source": [
    "min_ts, max_ts = min(data.datetime), max(data.datetime)\n",
    "min_ts, max_ts"
   ]
  },
  {
   "cell_type": "code",
   "execution_count": 4,
   "id": "7e5ec6c4",
   "metadata": {},
   "outputs": [
    {
     "data": {
      "text/plain": [
       "datetime.datetime(2017, 8, 4, 0, 0)"
      ]
     },
     "execution_count": 4,
     "metadata": {},
     "output_type": "execute_result"
    }
   ],
   "source": [
    "min_date_for_avg = max_ts.date() - relativedelta(years=1) + relativedelta(days=1)\n",
    "min_dt_for_avg = dt.datetime.combine(min_date_for_avg, dt.time())\n",
    "min_dt_for_avg"
   ]
  },
  {
   "cell_type": "code",
   "execution_count": 5,
   "id": "0e3bca40",
   "metadata": {},
   "outputs": [
    {
     "data": {
      "text/plain": [
       "17704813000.0"
      ]
     },
     "execution_count": 5,
     "metadata": {},
     "output_type": "execute_result"
    }
   ],
   "source": [
    "last_year_data_mwh = (\n",
    "    data[data.datetime > min_dt_for_avg]\n",
    "    .power_mw.sum()\n",
    ")\n",
    "last_year_data_kwh = last_year_data_mwh * 1000\n",
    "\n",
    "last_year_data_kwh"
   ]
  },
  {
   "cell_type": "code",
   "execution_count": 6,
   "id": "1b57853b",
   "metadata": {},
   "outputs": [],
   "source": [
    "factor = AVG_DAYTON_YEARLY_HOUSEHOLD_KWH / last_year_data_kwh"
   ]
  },
  {
   "cell_type": "code",
   "execution_count": 7,
   "id": "ac8b1862",
   "metadata": {},
   "outputs": [
    {
     "data": {
      "text/html": [
       "<div>\n",
       "<style scoped>\n",
       "    .dataframe tbody tr th:only-of-type {\n",
       "        vertical-align: middle;\n",
       "    }\n",
       "\n",
       "    .dataframe tbody tr th {\n",
       "        vertical-align: top;\n",
       "    }\n",
       "\n",
       "    .dataframe thead th {\n",
       "        text-align: right;\n",
       "    }\n",
       "</style>\n",
       "<table border=\"1\" class=\"dataframe\">\n",
       "  <thead>\n",
       "    <tr style=\"text-align: right;\">\n",
       "      <th></th>\n",
       "      <th>datetime</th>\n",
       "      <th>power_kw</th>\n",
       "    </tr>\n",
       "  </thead>\n",
       "  <tbody>\n",
       "    <tr>\n",
       "      <th>0</th>\n",
       "      <td>2004-12-31 01:00:00</td>\n",
       "      <td>0.001180</td>\n",
       "    </tr>\n",
       "    <tr>\n",
       "      <th>1</th>\n",
       "      <td>2004-12-31 02:00:00</td>\n",
       "      <td>0.001122</td>\n",
       "    </tr>\n",
       "    <tr>\n",
       "      <th>2</th>\n",
       "      <td>2004-12-31 03:00:00</td>\n",
       "      <td>0.001099</td>\n",
       "    </tr>\n",
       "    <tr>\n",
       "      <th>3</th>\n",
       "      <td>2004-12-31 04:00:00</td>\n",
       "      <td>0.001086</td>\n",
       "    </tr>\n",
       "    <tr>\n",
       "      <th>4</th>\n",
       "      <td>2004-12-31 05:00:00</td>\n",
       "      <td>0.001088</td>\n",
       "    </tr>\n",
       "  </tbody>\n",
       "</table>\n",
       "</div>"
      ],
      "text/plain": [
       "             datetime  power_kw\n",
       "0 2004-12-31 01:00:00  0.001180\n",
       "1 2004-12-31 02:00:00  0.001122\n",
       "2 2004-12-31 03:00:00  0.001099\n",
       "3 2004-12-31 04:00:00  0.001086\n",
       "4 2004-12-31 05:00:00  0.001088"
      ]
     },
     "execution_count": 7,
     "metadata": {},
     "output_type": "execute_result"
    }
   ],
   "source": [
    "new_data = (\n",
    "    data.assign(power_kw=lambda d: d.power_mw * factor)\n",
    "    .drop(columns=[\"power_mw\"])\n",
    ")\n",
    "\n",
    "new_data.head()"
   ]
  },
  {
   "cell_type": "code",
   "execution_count": 8,
   "id": "2ef32a7f",
   "metadata": {},
   "outputs": [],
   "source": [
    "new_data.to_csv(OUTPUT_DATA)"
   ]
  }
 ],
 "metadata": {
  "kernelspec": {
   "display_name": "Python 3 (ipykernel)",
   "language": "python",
   "name": "python3"
  },
  "language_info": {
   "codemirror_mode": {
    "name": "ipython",
    "version": 3
   },
   "file_extension": ".py",
   "mimetype": "text/x-python",
   "name": "python",
   "nbconvert_exporter": "python",
   "pygments_lexer": "ipython3",
   "version": "3.10.10"
  }
 },
 "nbformat": 4,
 "nbformat_minor": 5
}
